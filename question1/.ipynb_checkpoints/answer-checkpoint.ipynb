{
 "cells": [
  {
   "cell_type": "markdown",
   "metadata": {},
   "source": [
    "Question 1\n",
    "\n",
    "Detection of fake commodity: There are a total of 100,000 pairs of shoes of a well-known brand on an e-commerce platform.\n",
    "\n",
    "The official guide price of these shoes is 48 ~ 68. Now we randomly sample 1,000 pairs from them for inspection, where 100 pairs of shoes with quality or counterfeit problems are found. The price distribution of the 100 pairs of counterfeit shoes is mainly concentrated on two price points, with 60 pairs for 30 and 40 pairs for 50. Please give the price point at which you can most likely buy qualified shoes at the lowest price. Prerequisite judgments can be made based on personal understanding of real life.\n"
   ]
  },
  {
   "cell_type": "markdown",
   "metadata": {},
   "source": [
    "### 问题分析：\n",
    "问题定位为概率论问题，解题思路中涉及条件概率，正态分布等，提供了两种解题思路，请参考"
   ]
  },
  {
   "cell_type": "markdown",
   "metadata": {},
   "source": [
    "### 思路一：\n",
    "已知随机抽取1000个商品，其中100个是次品，次品中 60个30元，40个50元等信息，使用了条件概率公式等\n",
    "      设定 X 表示商品价格，Y 表示是否是正品，下图是推导公式\n",
    "<img src=\"./p1.jpg\" style=\"zoom:18%\" />  \n"
   ]
  },
  {
   "cell_type": "markdown",
   "metadata": {},
   "source": [
    "### 思路二：\n",
    "基于生活经验，品牌商品指导价为48~68，品牌商大概率不会底价售卖，不在参考加内的商品不购买，默认是次品的可能性大，详细解题思路见下图\n",
    "<img src=\"./p2.jpg\" style=\"zoom:15%\" />"
   ]
  },
  {
   "cell_type": "markdown",
   "metadata": {},
   "source": []
  }
 ],
 "metadata": {
  "kernelspec": {
   "display_name": "Python 3",
   "language": "python",
   "name": "python3"
  },
  "language_info": {
   "codemirror_mode": {
    "name": "ipython",
    "version": 3
   },
   "file_extension": ".py",
   "mimetype": "text/x-python",
   "name": "python",
   "nbconvert_exporter": "python",
   "pygments_lexer": "ipython3",
   "version": "3.7.2"
  }
 },
 "nbformat": 4,
 "nbformat_minor": 2
}
