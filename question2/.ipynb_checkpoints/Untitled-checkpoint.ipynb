{
 "cells": [
  {
   "cell_type": "markdown",
   "metadata": {},
   "source": [
    "问题2 ：\n",
    "Question 2\n",
    "\n",
    "We are all very familiar with Logistic Regression and its optimization solution to minimize its cost function. But in reality, we may need some constraints. The following are two special constraints, please give: a) optimization solution; b) code of the solution process; c) sample code (you can use the sklearn data set or generate your own code)\n",
    "\n",
    "1) Non-negative constraint: All coefficients of LR are required to be non-negative;\n",
    "\n",
    "2) Order preserving constraint: The coefficient of LR is required to satisfy a1 >= a2 >= a3 ……\n",
    "\n",
    "One more question: If there is no constraint, is LR a global optimization algorithm or a local one? why? When constraints 1) or 2) are imposed, global or local? why?\n",
    "\n",
    "logistic regression with weights constraints(non-nagetive,desceding order)"
   ]
  },
  {
   "attachments": {},
   "cell_type": "markdown",
   "metadata": {},
   "source": [
    "问题分析：问题是定位为 求解在一定参数约束下，逻辑回归最优解\n",
    "小问题1 ： 参数非负，即参数都是正的\n",
    "小问题2 : 参数是有序的，满足 a1>=a2>=a3...\n",
    "小问题3 ：全局优化和局部优化\n",
    "\n",
    "解题总思路：定位目标函数，选择优化方法，借助scipy,numpy，sklearn\n",
    "使用方法 trust 构建 linearConstraints\n",
    "<img src=\"./math1.png\" style=\"zoom:50%\" />\n",
    "\n",
    "小问题1 linearConstraints 构建为 \n",
    "<img src=\"para_postive.jpg\" style=\"zoom:20%\" />\n",
    "\n",
    "\n"
   ]
  },
  {
   "cell_type": "code",
   "execution_count": 2,
   "metadata": {},
   "outputs": [
    {
     "name": "stdout",
     "output_type": "stream",
     "text": [
      "/Users/lxwlxw/PycharmProjects/solution/question2\r\n"
     ]
    }
   ],
   "source": [
    "!pwd"
   ]
  },
  {
   "cell_type": "code",
   "execution_count": 3,
   "metadata": {},
   "outputs": [
    {
     "name": "stdout",
     "output_type": "stream",
     "text": [
      "\u001b[34mLogisticMini\u001b[m\u001b[m     __init__.py      para_postive.jpg\r\n",
      "Untitled.ipynb   math1.png        untitled.txt\r\n"
     ]
    }
   ],
   "source": [
    "!ls"
   ]
  },
  {
   "cell_type": "code",
   "execution_count": null,
   "metadata": {},
   "outputs": [],
   "source": []
  },
  {
   "cell_type": "code",
   "execution_count": null,
   "metadata": {},
   "outputs": [],
   "source": []
  },
  {
   "cell_type": "code",
   "execution_count": null,
   "metadata": {},
   "outputs": [],
   "source": []
  },
  {
   "cell_type": "code",
   "execution_count": null,
   "metadata": {},
   "outputs": [],
   "source": []
  }
 ],
 "metadata": {
  "kernelspec": {
   "display_name": "Python 3",
   "language": "python",
   "name": "python3"
  },
  "language_info": {
   "codemirror_mode": {
    "name": "ipython",
    "version": 3
   },
   "file_extension": ".py",
   "mimetype": "text/x-python",
   "name": "python",
   "nbconvert_exporter": "python",
   "pygments_lexer": "ipython3",
   "version": "3.7.2"
  }
 },
 "nbformat": 4,
 "nbformat_minor": 2
}
